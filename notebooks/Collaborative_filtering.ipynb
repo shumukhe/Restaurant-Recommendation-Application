{
 "cells": [
  {
   "cell_type": "code",
   "execution_count": 5,
   "metadata": {},
   "outputs": [],
   "source": [
    "import pandas as pd\n",
    "import numpy as np\n",
    "import matplotlib.pyplot as plt\n",
    "import hashlib\n",
    "\n",
    "from sklearn.preprocessing import LabelEncoder\n",
    "from sklearn.model_selection import train_test_split, GridSearchCV\n",
    "from sklearn.metrics import mean_squared_error, mean_absolute_error\n",
    "\n",
    "import tensorflow as tf\n",
    "from tensorflow.keras.layers import Embedding, Flatten, Input, Dot, Concatenate, Dense, Dropout, BatchNormalization\n",
    "from tensorflow.keras.models import Model, load_model\n",
    "from tensorflow.keras.regularizers import l2\n",
    "from tensorflow.keras.callbacks import EarlyStopping, ModelCheckpoint\n",
    "\n",
    "pd.set_option('display.max_columns', None)"
   ]
  },
  {
   "cell_type": "code",
   "execution_count": 6,
   "metadata": {},
   "outputs": [],
   "source": [
    "reviews = pd.read_csv(r'C:\\Users\\User\\Desktop\\Learnabay Training\\My Portfolio projects for resume\\Restaurant Recommendation System\\Processed_Data\\reviews.csv')"
   ]
  },
  {
   "cell_type": "code",
   "execution_count": 7,
   "metadata": {},
   "outputs": [],
   "source": [
    "business = pd.read_csv(r'C:\\Users\\User\\Desktop\\Learnabay Training\\My Portfolio projects for resume\\Restaurant Recommendation System\\Processed_Data\\business.csv')"
   ]
  },
  {
   "cell_type": "code",
   "execution_count": 8,
   "metadata": {},
   "outputs": [
    {
     "name": "stdout",
     "output_type": "stream",
     "text": [
      "<class 'pandas.core.frame.DataFrame'>\n",
      "RangeIndex: 419344 entries, 0 to 419343\n",
      "Data columns (total 3 columns):\n",
      " #   Column       Non-Null Count   Dtype \n",
      "---  ------       --------------   ----- \n",
      " 0   user_id      419344 non-null  object\n",
      " 1   business_id  419344 non-null  object\n",
      " 2   stars        419344 non-null  int64 \n",
      "dtypes: int64(1), object(2)\n",
      "memory usage: 9.6+ MB\n"
     ]
    }
   ],
   "source": [
    "reviews.info()"
   ]
  },
  {
   "cell_type": "code",
   "execution_count": 9,
   "metadata": {},
   "outputs": [],
   "source": [
    "reviews = reviews.drop_duplicates()"
   ]
  },
  {
   "cell_type": "code",
   "execution_count": 10,
   "metadata": {},
   "outputs": [
    {
     "data": {
      "text/html": [
       "<div>\n",
       "<style scoped>\n",
       "    .dataframe tbody tr th:only-of-type {\n",
       "        vertical-align: middle;\n",
       "    }\n",
       "\n",
       "    .dataframe tbody tr th {\n",
       "        vertical-align: top;\n",
       "    }\n",
       "\n",
       "    .dataframe thead th {\n",
       "        text-align: right;\n",
       "    }\n",
       "</style>\n",
       "<table border=\"1\" class=\"dataframe\">\n",
       "  <thead>\n",
       "    <tr style=\"text-align: right;\">\n",
       "      <th></th>\n",
       "      <th>user_id</th>\n",
       "      <th>business_id</th>\n",
       "      <th>stars</th>\n",
       "    </tr>\n",
       "  </thead>\n",
       "  <tbody>\n",
       "    <tr>\n",
       "      <th>0</th>\n",
       "      <td>smOvOajNG0lS4Pq7d8g4JQ</td>\n",
       "      <td>RZtGWDLCAtuipwaZ-UfjmQ</td>\n",
       "      <td>4</td>\n",
       "    </tr>\n",
       "    <tr>\n",
       "      <th>1</th>\n",
       "      <td>IQsF3Rc6IgCzjVV9DE8KXg</td>\n",
       "      <td>eFvzHawVJofxSnD7TgbZtg</td>\n",
       "      <td>5</td>\n",
       "    </tr>\n",
       "    <tr>\n",
       "      <th>2</th>\n",
       "      <td>aFa96pz67TwOFu4Weq5Agg</td>\n",
       "      <td>kq5Ghhh14r-eCxlVmlyd8w</td>\n",
       "      <td>5</td>\n",
       "    </tr>\n",
       "    <tr>\n",
       "      <th>3</th>\n",
       "      <td>G0DHgkSsDozqUPWtlxVEMw</td>\n",
       "      <td>oBhJuukGRqPVvYBfTkhuZA</td>\n",
       "      <td>4</td>\n",
       "    </tr>\n",
       "    <tr>\n",
       "      <th>4</th>\n",
       "      <td>ZGjgfSvjQK886kiTzLwfLQ</td>\n",
       "      <td>EtKSTHV5Qx_Q7Aur9o4kQQ</td>\n",
       "      <td>5</td>\n",
       "    </tr>\n",
       "  </tbody>\n",
       "</table>\n",
       "</div>"
      ],
      "text/plain": [
       "                  user_id             business_id  stars\n",
       "0  smOvOajNG0lS4Pq7d8g4JQ  RZtGWDLCAtuipwaZ-UfjmQ      4\n",
       "1  IQsF3Rc6IgCzjVV9DE8KXg  eFvzHawVJofxSnD7TgbZtg      5\n",
       "2  aFa96pz67TwOFu4Weq5Agg  kq5Ghhh14r-eCxlVmlyd8w      5\n",
       "3  G0DHgkSsDozqUPWtlxVEMw  oBhJuukGRqPVvYBfTkhuZA      4\n",
       "4  ZGjgfSvjQK886kiTzLwfLQ  EtKSTHV5Qx_Q7Aur9o4kQQ      5"
      ]
     },
     "execution_count": 10,
     "metadata": {},
     "output_type": "execute_result"
    }
   ],
   "source": [
    "reviews.head()"
   ]
  },
  {
   "cell_type": "code",
   "execution_count": 11,
   "metadata": {},
   "outputs": [],
   "source": [
    "reviews = pd.merge(reviews, business, on='business_id')\n",
    "reviews = reviews[reviews['is_open']==1]\n",
    "reviews.rename(columns={'stars_x': 'stars'},inplace=True, errors='raise')\n",
    "reviews = reviews[['user_id','business_id','stars']]"
   ]
  },
  {
   "cell_type": "code",
   "execution_count": 12,
   "metadata": {},
   "outputs": [
    {
     "name": "stdout",
     "output_type": "stream",
     "text": [
      "CPU times: total: 31.2 ms\n",
      "Wall time: 28.6 ms\n"
     ]
    }
   ],
   "source": [
    "%%time\n",
    "train_data, test_data = train_test_split(reviews, test_size=0.2)"
   ]
  },
  {
   "cell_type": "code",
   "execution_count": 13,
   "metadata": {},
   "outputs": [
    {
     "name": "stdout",
     "output_type": "stream",
     "text": [
      "(245437, 3)\n",
      "(61360, 3)\n"
     ]
    }
   ],
   "source": [
    "print(train_data.shape)\n",
    "print(test_data.shape)"
   ]
  },
  {
   "cell_type": "code",
   "execution_count": 14,
   "metadata": {},
   "outputs": [
    {
     "name": "stdout",
     "output_type": "stream",
     "text": [
      "CPU times: total: 188 ms\n",
      "Wall time: 194 ms\n"
     ]
    }
   ],
   "source": [
    "%%time\n",
    "user_encoder = LabelEncoder()\n",
    "business_encoder = LabelEncoder()\n",
    "\n",
    "train_data['user_id_encoded'] = user_encoder.fit_transform(train_data['user_id'])\n",
    "train_data['business_id_encoded'] = business_encoder.fit_transform(train_data['business_id'])"
   ]
  },
  {
   "cell_type": "code",
   "execution_count": 15,
   "metadata": {},
   "outputs": [
    {
     "data": {
      "text/plain": [
       "(54422, 2412)"
      ]
     },
     "execution_count": 15,
     "metadata": {},
     "output_type": "execute_result"
    }
   ],
   "source": [
    "len(user_encoder.classes_), len(business_encoder.classes_)"
   ]
  },
  {
   "cell_type": "code",
   "execution_count": 16,
   "metadata": {},
   "outputs": [],
   "source": [
    "test_data = test_data[test_data['user_id'].isin(user_encoder.classes_)]\n",
    "test_data = test_data[test_data['business_id'].isin(business_encoder.classes_)]"
   ]
  },
  {
   "cell_type": "code",
   "execution_count": 17,
   "metadata": {},
   "outputs": [
    {
     "name": "stdout",
     "output_type": "stream",
     "text": [
      "(245437, 5)\n",
      "(54839, 3)\n"
     ]
    }
   ],
   "source": [
    "print(train_data.shape)\n",
    "print(test_data.shape)"
   ]
  },
  {
   "cell_type": "code",
   "execution_count": 18,
   "metadata": {},
   "outputs": [],
   "source": [
    "test_data['user_id_encoded'] = user_encoder.transform(test_data['user_id'])\n",
    "test_data['business_id_encoded'] = business_encoder.transform(test_data['business_id'])"
   ]
  },
  {
   "cell_type": "code",
   "execution_count": 19,
   "metadata": {},
   "outputs": [
    {
     "data": {
      "text/html": [
       "<div>\n",
       "<style scoped>\n",
       "    .dataframe tbody tr th:only-of-type {\n",
       "        vertical-align: middle;\n",
       "    }\n",
       "\n",
       "    .dataframe tbody tr th {\n",
       "        vertical-align: top;\n",
       "    }\n",
       "\n",
       "    .dataframe thead th {\n",
       "        text-align: right;\n",
       "    }\n",
       "</style>\n",
       "<table border=\"1\" class=\"dataframe\">\n",
       "  <thead>\n",
       "    <tr style=\"text-align: right;\">\n",
       "      <th></th>\n",
       "      <th>user_id</th>\n",
       "      <th>business_id</th>\n",
       "      <th>stars</th>\n",
       "      <th>user_id_encoded</th>\n",
       "      <th>business_id_encoded</th>\n",
       "    </tr>\n",
       "  </thead>\n",
       "  <tbody>\n",
       "    <tr>\n",
       "      <th>291626</th>\n",
       "      <td>tmWTXJuqJ3HKPITk07D1Nw</td>\n",
       "      <td>LgAuYz5cQe3zTxuteJ4VyQ</td>\n",
       "      <td>4</td>\n",
       "      <td>49208</td>\n",
       "      <td>879</td>\n",
       "    </tr>\n",
       "    <tr>\n",
       "      <th>313992</th>\n",
       "      <td>wt3BsEKkKLklgqv0hylzWA</td>\n",
       "      <td>gYYMQeg4X8FUcCxXI4c2Tw</td>\n",
       "      <td>4</td>\n",
       "      <td>51840</td>\n",
       "      <td>1682</td>\n",
       "    </tr>\n",
       "    <tr>\n",
       "      <th>305217</th>\n",
       "      <td>8Ke-o_dV72eKnPJhpNfYOw</td>\n",
       "      <td>32It9NN_lVismU9tcuLB0A</td>\n",
       "      <td>1</td>\n",
       "      <td>8106</td>\n",
       "      <td>148</td>\n",
       "    </tr>\n",
       "    <tr>\n",
       "      <th>145559</th>\n",
       "      <td>s4ruVu8oVVPpy1HZx0qWpg</td>\n",
       "      <td>REiAM73RkOxFqCVlEFiRWA</td>\n",
       "      <td>4</td>\n",
       "      <td>47749</td>\n",
       "      <td>1066</td>\n",
       "    </tr>\n",
       "    <tr>\n",
       "      <th>241275</th>\n",
       "      <td>9JnKwuTNfTOh1fGGPe2t6A</td>\n",
       "      <td>r7PzCQmfs2jq-VmZjUwKjg</td>\n",
       "      <td>4</td>\n",
       "      <td>8936</td>\n",
       "      <td>2099</td>\n",
       "    </tr>\n",
       "  </tbody>\n",
       "</table>\n",
       "</div>"
      ],
      "text/plain": [
       "                       user_id             business_id  stars  \\\n",
       "291626  tmWTXJuqJ3HKPITk07D1Nw  LgAuYz5cQe3zTxuteJ4VyQ      4   \n",
       "313992  wt3BsEKkKLklgqv0hylzWA  gYYMQeg4X8FUcCxXI4c2Tw      4   \n",
       "305217  8Ke-o_dV72eKnPJhpNfYOw  32It9NN_lVismU9tcuLB0A      1   \n",
       "145559  s4ruVu8oVVPpy1HZx0qWpg  REiAM73RkOxFqCVlEFiRWA      4   \n",
       "241275  9JnKwuTNfTOh1fGGPe2t6A  r7PzCQmfs2jq-VmZjUwKjg      4   \n",
       "\n",
       "        user_id_encoded  business_id_encoded  \n",
       "291626            49208                  879  \n",
       "313992            51840                 1682  \n",
       "305217             8106                  148  \n",
       "145559            47749                 1066  \n",
       "241275             8936                 2099  "
      ]
     },
     "execution_count": 19,
     "metadata": {},
     "output_type": "execute_result"
    }
   ],
   "source": [
    "train_data.head()"
   ]
  },
  {
   "cell_type": "code",
   "execution_count": 20,
   "metadata": {},
   "outputs": [
    {
     "data": {
      "text/html": [
       "<div>\n",
       "<style scoped>\n",
       "    .dataframe tbody tr th:only-of-type {\n",
       "        vertical-align: middle;\n",
       "    }\n",
       "\n",
       "    .dataframe tbody tr th {\n",
       "        vertical-align: top;\n",
       "    }\n",
       "\n",
       "    .dataframe thead th {\n",
       "        text-align: right;\n",
       "    }\n",
       "</style>\n",
       "<table border=\"1\" class=\"dataframe\">\n",
       "  <thead>\n",
       "    <tr style=\"text-align: right;\">\n",
       "      <th></th>\n",
       "      <th>user_id</th>\n",
       "      <th>business_id</th>\n",
       "      <th>stars</th>\n",
       "      <th>user_id_encoded</th>\n",
       "      <th>business_id_encoded</th>\n",
       "    </tr>\n",
       "  </thead>\n",
       "  <tbody>\n",
       "    <tr>\n",
       "      <th>142628</th>\n",
       "      <td>1TcuN6d1LOU12y5geVqCUw</td>\n",
       "      <td>e4MoozYGqe_rb4_ZC1rYMQ</td>\n",
       "      <td>4</td>\n",
       "      <td>2188</td>\n",
       "      <td>1584</td>\n",
       "    </tr>\n",
       "    <tr>\n",
       "      <th>154276</th>\n",
       "      <td>IQG1WlWNg2isqbdAX_Zppg</td>\n",
       "      <td>SDL247FlOnScJfuNjZESxg</td>\n",
       "      <td>3</td>\n",
       "      <td>16575</td>\n",
       "      <td>1111</td>\n",
       "    </tr>\n",
       "    <tr>\n",
       "      <th>55957</th>\n",
       "      <td>OINYv6r1OMFK9wbDpno9AQ</td>\n",
       "      <td>0K4RwxdAcViifyU3Htzxww</td>\n",
       "      <td>4</td>\n",
       "      <td>21485</td>\n",
       "      <td>46</td>\n",
       "    </tr>\n",
       "    <tr>\n",
       "      <th>105603</th>\n",
       "      <td>a-x197V4FMgtBuh63ijsow</td>\n",
       "      <td>RQAF6a0akMiot5lZZnMNNw</td>\n",
       "      <td>5</td>\n",
       "      <td>32377</td>\n",
       "      <td>1076</td>\n",
       "    </tr>\n",
       "    <tr>\n",
       "      <th>281111</th>\n",
       "      <td>yGPXAiE0IdZfMcJIcSxc1Q</td>\n",
       "      <td>5WF3593by2u-aE_WaM7_Mw</td>\n",
       "      <td>3</td>\n",
       "      <td>52956</td>\n",
       "      <td>249</td>\n",
       "    </tr>\n",
       "  </tbody>\n",
       "</table>\n",
       "</div>"
      ],
      "text/plain": [
       "                       user_id             business_id  stars  \\\n",
       "142628  1TcuN6d1LOU12y5geVqCUw  e4MoozYGqe_rb4_ZC1rYMQ      4   \n",
       "154276  IQG1WlWNg2isqbdAX_Zppg  SDL247FlOnScJfuNjZESxg      3   \n",
       "55957   OINYv6r1OMFK9wbDpno9AQ  0K4RwxdAcViifyU3Htzxww      4   \n",
       "105603  a-x197V4FMgtBuh63ijsow  RQAF6a0akMiot5lZZnMNNw      5   \n",
       "281111  yGPXAiE0IdZfMcJIcSxc1Q  5WF3593by2u-aE_WaM7_Mw      3   \n",
       "\n",
       "        user_id_encoded  business_id_encoded  \n",
       "142628             2188                 1584  \n",
       "154276            16575                 1111  \n",
       "55957             21485                   46  \n",
       "105603            32377                 1076  \n",
       "281111            52956                  249  "
      ]
     },
     "execution_count": 20,
     "metadata": {},
     "output_type": "execute_result"
    }
   ],
   "source": [
    "test_data.head()"
   ]
  },
  {
   "cell_type": "code",
   "execution_count": 21,
   "metadata": {},
   "outputs": [
    {
     "name": "stdout",
     "output_type": "stream",
     "text": [
      "No GPU device found. Training on CPU.\n"
     ]
    }
   ],
   "source": [
    "if tf.test.gpu_device_name():\n",
    "    print('GPU device found: {}'.format(tf.test.gpu_device_name()))\n",
    "else:\n",
    "    print(\"No GPU device found. Training on CPU.\")"
   ]
  },
  {
   "cell_type": "code",
   "execution_count": 22,
   "metadata": {},
   "outputs": [
    {
     "name": "stdout",
     "output_type": "stream",
     "text": [
      "Unique Users: 54422, Unique Businesses: 2412\n"
     ]
    }
   ],
   "source": [
    "num_users = len(user_encoder.classes_)\n",
    "num_businesses = len(business_encoder.classes_)\n",
    "\n",
    "print(f\"Unique Users: {num_users}, Unique Businesses: {num_businesses}\")"
   ]
  },
  {
   "cell_type": "code",
   "execution_count": 23,
   "metadata": {},
   "outputs": [
    {
     "name": "stdout",
     "output_type": "stream",
     "text": [
      "Model: \"model\"\n",
      "__________________________________________________________________________________________________\n",
      " Layer (type)                   Output Shape         Param #     Connected to                     \n",
      "==================================================================================================\n",
      " user_input (InputLayer)        [(None, 1)]          0           []                               \n",
      "                                                                                                  \n",
      " business_input (InputLayer)    [(None, 1)]          0           []                               \n",
      "                                                                                                  \n",
      " embedding (Embedding)          (None, 1, 32)        1741504     ['user_input[0][0]']             \n",
      "                                                                                                  \n",
      " embedding_1 (Embedding)        (None, 1, 32)        77184       ['business_input[0][0]']         \n",
      "                                                                                                  \n",
      " flatten (Flatten)              (None, 32)           0           ['embedding[0][0]']              \n",
      "                                                                                                  \n",
      " flatten_1 (Flatten)            (None, 32)           0           ['embedding_1[0][0]']            \n",
      "                                                                                                  \n",
      " concatenate (Concatenate)      (None, 64)           0           ['flatten[0][0]',                \n",
      "                                                                  'flatten_1[0][0]']              \n",
      "                                                                                                  \n",
      " batch_normalization (BatchNorm  (None, 64)          256         ['concatenate[0][0]']            \n",
      " alization)                                                                                       \n",
      "                                                                                                  \n",
      " dense (Dense)                  (None, 128)          8320        ['batch_normalization[0][0]']    \n",
      "                                                                                                  \n",
      " dropout (Dropout)              (None, 128)          0           ['dense[0][0]']                  \n",
      "                                                                                                  \n",
      " dense_1 (Dense)                (None, 1)            129         ['dropout[0][0]']                \n",
      "                                                                                                  \n",
      "==================================================================================================\n",
      "Total params: 1,827,393\n",
      "Trainable params: 1,827,265\n",
      "Non-trainable params: 128\n",
      "__________________________________________________________________________________________________\n"
     ]
    }
   ],
   "source": [
    "embedding_dim=32\n",
    "\n",
    "user_input = Input(shape=(1,), name='user_input')\n",
    "business_input = Input(shape=(1,), name='business_input')\n",
    "\n",
    "user_embedding = Embedding(input_dim=num_users, output_dim=embedding_dim, embeddings_regularizer=l2(1e-6))(user_input)\n",
    "business_embedding = Embedding(input_dim=num_businesses, output_dim=embedding_dim, embeddings_regularizer=l2(1e-6))(business_input)\n",
    "\n",
    "user_flatten = Flatten()(user_embedding)\n",
    "business_flatten = Flatten()(business_embedding)\n",
    "\n",
    "merged = Concatenate()([user_flatten, business_flatten])\n",
    "merged = BatchNormalization()(merged)\n",
    "\n",
    "dense_layer = Dense(128, activation='relu')(merged)\n",
    "dropout = Dropout(0.4)(dense_layer)\n",
    "output_layer = Dense(1, activation='linear')(dropout)\n",
    "\n",
    "model = Model(inputs=[user_input, business_input], outputs=output_layer)\n",
    "model.compile(loss='mean_squared_error', optimizer='adam', metrics=['mae'])\n",
    "model.summary()"
   ]
  },
  {
   "cell_type": "code",
   "execution_count": 24,
   "metadata": {},
   "outputs": [
    {
     "name": "stdout",
     "output_type": "stream",
     "text": [
      "(245437,) (245437,) (245437,)\n"
     ]
    }
   ],
   "source": [
    "batch_size = 128\n",
    "epochs = 20\n",
    "\n",
    "user_ids = train_data['user_id_encoded'].values\n",
    "business_ids = train_data['business_id_encoded'].values\n",
    "stars = train_data['stars'].values\n",
    "\n",
    "print(np.shape(user_ids), np.shape(business_ids), np.shape(stars))"
   ]
  },
  {
   "cell_type": "code",
   "execution_count": 26,
   "metadata": {},
   "outputs": [],
   "source": [
    "model_checkpoint = ModelCheckpoint(r'C:\\Users\\User\\Desktop\\Learnabay Training\\My Portfolio projects for resume\\Restaurant Recommendation System\\model_weights.h5',\n",
    "                             monitor='val_loss',   # Monitor validation loss\n",
    "                             save_best_only=True,  # Save only the best model\n",
    "                             save_weights_only=True,\n",
    "                             mode='min'            # Mode of monitoring (minimize validation loss)\n",
    "                            )\n",
    "\n",
    "early_stopping = EarlyStopping(monitor='val_loss',\n",
    "                               patience=5,\n",
    "                               restore_best_weights=True\n",
    "                              )"
   ]
  },
  {
   "cell_type": "code",
   "execution_count": 27,
   "metadata": {},
   "outputs": [
    {
     "name": "stdout",
     "output_type": "stream",
     "text": [
      "Epoch 1/20\n",
      "1534/1534 [==============================] - 30s 19ms/step - loss: 1.7720 - mae: 1.0461 - val_loss: 1.1200 - val_mae: 0.8223\n",
      "Epoch 2/20\n",
      "1534/1534 [==============================] - 30s 19ms/step - loss: 1.1163 - mae: 0.8333 - val_loss: 1.1021 - val_mae: 0.8241\n",
      "Epoch 3/20\n",
      "1534/1534 [==============================] - 29s 19ms/step - loss: 0.9362 - mae: 0.7570 - val_loss: 1.1232 - val_mae: 0.8310\n",
      "Epoch 4/20\n",
      "1534/1534 [==============================] - 27s 18ms/step - loss: 0.8076 - mae: 0.6968 - val_loss: 1.1520 - val_mae: 0.8359\n",
      "Epoch 5/20\n",
      "1534/1534 [==============================] - 26s 17ms/step - loss: 0.7022 - mae: 0.6443 - val_loss: 1.1702 - val_mae: 0.8427\n",
      "Epoch 6/20\n",
      "1534/1534 [==============================] - 27s 17ms/step - loss: 0.6181 - mae: 0.6018 - val_loss: 1.2071 - val_mae: 0.8463\n",
      "Epoch 7/20\n",
      "1534/1534 [==============================] - 27s 18ms/step - loss: 0.5583 - mae: 0.5691 - val_loss: 1.2062 - val_mae: 0.8572\n"
     ]
    }
   ],
   "source": [
    "history = model.fit(\n",
    "    [user_ids, business_ids],\n",
    "    stars,\n",
    "    batch_size=batch_size,\n",
    "    epochs=epochs,\n",
    "    validation_split=0.2,\n",
    "    callbacks=[early_stopping, model_checkpoint]\n",
    ")"
   ]
  },
  {
   "cell_type": "code",
   "execution_count": null,
   "metadata": {},
   "outputs": [],
   "source": []
  },
  {
   "cell_type": "code",
   "execution_count": 28,
   "metadata": {},
   "outputs": [
    {
     "data": {
      "text/html": [
       "<div>\n",
       "<style scoped>\n",
       "    .dataframe tbody tr th:only-of-type {\n",
       "        vertical-align: middle;\n",
       "    }\n",
       "\n",
       "    .dataframe tbody tr th {\n",
       "        vertical-align: top;\n",
       "    }\n",
       "\n",
       "    .dataframe thead th {\n",
       "        text-align: right;\n",
       "    }\n",
       "</style>\n",
       "<table border=\"1\" class=\"dataframe\">\n",
       "  <thead>\n",
       "    <tr style=\"text-align: right;\">\n",
       "      <th></th>\n",
       "      <th>user_id</th>\n",
       "      <th>business_id</th>\n",
       "      <th>stars</th>\n",
       "      <th>user_id_encoded</th>\n",
       "      <th>business_id_encoded</th>\n",
       "    </tr>\n",
       "  </thead>\n",
       "  <tbody>\n",
       "    <tr>\n",
       "      <th>142628</th>\n",
       "      <td>1TcuN6d1LOU12y5geVqCUw</td>\n",
       "      <td>e4MoozYGqe_rb4_ZC1rYMQ</td>\n",
       "      <td>4</td>\n",
       "      <td>2188</td>\n",
       "      <td>1584</td>\n",
       "    </tr>\n",
       "    <tr>\n",
       "      <th>154276</th>\n",
       "      <td>IQG1WlWNg2isqbdAX_Zppg</td>\n",
       "      <td>SDL247FlOnScJfuNjZESxg</td>\n",
       "      <td>3</td>\n",
       "      <td>16575</td>\n",
       "      <td>1111</td>\n",
       "    </tr>\n",
       "    <tr>\n",
       "      <th>55957</th>\n",
       "      <td>OINYv6r1OMFK9wbDpno9AQ</td>\n",
       "      <td>0K4RwxdAcViifyU3Htzxww</td>\n",
       "      <td>4</td>\n",
       "      <td>21485</td>\n",
       "      <td>46</td>\n",
       "    </tr>\n",
       "    <tr>\n",
       "      <th>105603</th>\n",
       "      <td>a-x197V4FMgtBuh63ijsow</td>\n",
       "      <td>RQAF6a0akMiot5lZZnMNNw</td>\n",
       "      <td>5</td>\n",
       "      <td>32377</td>\n",
       "      <td>1076</td>\n",
       "    </tr>\n",
       "    <tr>\n",
       "      <th>281111</th>\n",
       "      <td>yGPXAiE0IdZfMcJIcSxc1Q</td>\n",
       "      <td>5WF3593by2u-aE_WaM7_Mw</td>\n",
       "      <td>3</td>\n",
       "      <td>52956</td>\n",
       "      <td>249</td>\n",
       "    </tr>\n",
       "  </tbody>\n",
       "</table>\n",
       "</div>"
      ],
      "text/plain": [
       "                       user_id             business_id  stars  \\\n",
       "142628  1TcuN6d1LOU12y5geVqCUw  e4MoozYGqe_rb4_ZC1rYMQ      4   \n",
       "154276  IQG1WlWNg2isqbdAX_Zppg  SDL247FlOnScJfuNjZESxg      3   \n",
       "55957   OINYv6r1OMFK9wbDpno9AQ  0K4RwxdAcViifyU3Htzxww      4   \n",
       "105603  a-x197V4FMgtBuh63ijsow  RQAF6a0akMiot5lZZnMNNw      5   \n",
       "281111  yGPXAiE0IdZfMcJIcSxc1Q  5WF3593by2u-aE_WaM7_Mw      3   \n",
       "\n",
       "        user_id_encoded  business_id_encoded  \n",
       "142628             2188                 1584  \n",
       "154276            16575                 1111  \n",
       "55957             21485                   46  \n",
       "105603            32377                 1076  \n",
       "281111            52956                  249  "
      ]
     },
     "execution_count": 28,
     "metadata": {},
     "output_type": "execute_result"
    }
   ],
   "source": [
    "test_data.head()"
   ]
  },
  {
   "cell_type": "code",
   "execution_count": 29,
   "metadata": {},
   "outputs": [],
   "source": [
    "test_user_ids = test_data['user_id_encoded'].values\n",
    "test_business_ids = test_data['business_id_encoded'].values\n",
    "test_stars = test_data['stars'].values"
   ]
  },
  {
   "cell_type": "code",
   "execution_count": 30,
   "metadata": {},
   "outputs": [
    {
     "name": "stdout",
     "output_type": "stream",
     "text": [
      "1714/1714 [==============================] - 1s 631us/step\n"
     ]
    }
   ],
   "source": [
    "predictions = model.predict([test_user_ids, test_business_ids])"
   ]
  },
  {
   "cell_type": "code",
   "execution_count": 31,
   "metadata": {},
   "outputs": [
    {
     "data": {
      "text/plain": [
       "array([[4.3378353],\n",
       "       [4.019232 ],\n",
       "       [4.0773945],\n",
       "       ...,\n",
       "       [3.8636458],\n",
       "       [3.4256692],\n",
       "       [5.0630445]], dtype=float32)"
      ]
     },
     "execution_count": 31,
     "metadata": {},
     "output_type": "execute_result"
    }
   ],
   "source": [
    "predictions"
   ]
  },
  {
   "cell_type": "code",
   "execution_count": 32,
   "metadata": {},
   "outputs": [
    {
     "data": {
      "text/plain": [
       "(0.9519359, 5.904071)"
      ]
     },
     "execution_count": 32,
     "metadata": {},
     "output_type": "execute_result"
    }
   ],
   "source": [
    "predictions.min(), predictions.max()"
   ]
  },
  {
   "cell_type": "code",
   "execution_count": 33,
   "metadata": {},
   "outputs": [
    {
     "data": {
      "text/plain": [
       "1.0567940473556519"
      ]
     },
     "execution_count": 33,
     "metadata": {},
     "output_type": "execute_result"
    }
   ],
   "source": [
    "mean_squared_error(predictions,test_stars)"
   ]
  },
  {
   "cell_type": "code",
   "execution_count": 34,
   "metadata": {},
   "outputs": [
    {
     "data": {
      "text/plain": [
       "0.803666353225708"
      ]
     },
     "execution_count": 34,
     "metadata": {},
     "output_type": "execute_result"
    }
   ],
   "source": [
    "mean_absolute_error(predictions,test_stars)"
   ]
  },
  {
   "cell_type": "markdown",
   "metadata": {},
   "source": [
    "#### Training for entire data"
   ]
  },
  {
   "cell_type": "code",
   "execution_count": 60,
   "metadata": {},
   "outputs": [
    {
     "data": {
      "text/html": [
       "<div>\n",
       "<style scoped>\n",
       "    .dataframe tbody tr th:only-of-type {\n",
       "        vertical-align: middle;\n",
       "    }\n",
       "\n",
       "    .dataframe tbody tr th {\n",
       "        vertical-align: top;\n",
       "    }\n",
       "\n",
       "    .dataframe thead th {\n",
       "        text-align: right;\n",
       "    }\n",
       "</style>\n",
       "<table border=\"1\" class=\"dataframe\">\n",
       "  <thead>\n",
       "    <tr style=\"text-align: right;\">\n",
       "      <th></th>\n",
       "      <th>user_id</th>\n",
       "      <th>business_id</th>\n",
       "      <th>stars</th>\n",
       "    </tr>\n",
       "  </thead>\n",
       "  <tbody>\n",
       "    <tr>\n",
       "      <th>810</th>\n",
       "      <td>mh_-eMZ6K5RLWhZyISBhwA</td>\n",
       "      <td>L4kfcADLCU4T33i7Z0CkuA</td>\n",
       "      <td>2</td>\n",
       "    </tr>\n",
       "    <tr>\n",
       "      <th>811</th>\n",
       "      <td>LTl0cbH2a8QeQQ3XSA3_dw</td>\n",
       "      <td>L4kfcADLCU4T33i7Z0CkuA</td>\n",
       "      <td>5</td>\n",
       "    </tr>\n",
       "    <tr>\n",
       "      <th>812</th>\n",
       "      <td>syKoxudhp7dbwbh3xrgjVQ</td>\n",
       "      <td>L4kfcADLCU4T33i7Z0CkuA</td>\n",
       "      <td>3</td>\n",
       "    </tr>\n",
       "    <tr>\n",
       "      <th>813</th>\n",
       "      <td>V9n2Qyr-dvNg00BwMWqquQ</td>\n",
       "      <td>L4kfcADLCU4T33i7Z0CkuA</td>\n",
       "      <td>4</td>\n",
       "    </tr>\n",
       "    <tr>\n",
       "      <th>814</th>\n",
       "      <td>vEFJfeis4LEuM-y4qZvXAA</td>\n",
       "      <td>L4kfcADLCU4T33i7Z0CkuA</td>\n",
       "      <td>4</td>\n",
       "    </tr>\n",
       "  </tbody>\n",
       "</table>\n",
       "</div>"
      ],
      "text/plain": [
       "                    user_id             business_id  stars\n",
       "810  mh_-eMZ6K5RLWhZyISBhwA  L4kfcADLCU4T33i7Z0CkuA      2\n",
       "811  LTl0cbH2a8QeQQ3XSA3_dw  L4kfcADLCU4T33i7Z0CkuA      5\n",
       "812  syKoxudhp7dbwbh3xrgjVQ  L4kfcADLCU4T33i7Z0CkuA      3\n",
       "813  V9n2Qyr-dvNg00BwMWqquQ  L4kfcADLCU4T33i7Z0CkuA      4\n",
       "814  vEFJfeis4LEuM-y4qZvXAA  L4kfcADLCU4T33i7Z0CkuA      4"
      ]
     },
     "execution_count": 60,
     "metadata": {},
     "output_type": "execute_result"
    }
   ],
   "source": [
    "reviews.head()"
   ]
  },
  {
   "cell_type": "code",
   "execution_count": 37,
   "metadata": {},
   "outputs": [
    {
     "name": "stdout",
     "output_type": "stream",
     "text": [
      "CPU times: total: 172 ms\n",
      "Wall time: 166 ms\n"
     ]
    }
   ],
   "source": [
    "%%time\n",
    "user_encoder = LabelEncoder()\n",
    "business_encoder = LabelEncoder()\n",
    "\n",
    "reviews['user_id_encoded'] = user_encoder.fit_transform(reviews['user_id'])\n",
    "reviews['business_id_encoded'] = business_encoder.fit_transform(reviews['business_id'])"
   ]
  },
  {
   "cell_type": "code",
   "execution_count": 38,
   "metadata": {},
   "outputs": [
    {
     "name": "stdout",
     "output_type": "stream",
     "text": [
      "Unique Users: 60425, Unique Businesses: 2412\n"
     ]
    }
   ],
   "source": [
    "num_users = len(user_encoder.classes_)\n",
    "num_businesses = len(business_encoder.classes_)\n",
    "\n",
    "print(f\"Unique Users: {num_users}, Unique Businesses: {num_businesses}\")"
   ]
  },
  {
   "cell_type": "code",
   "execution_count": 39,
   "metadata": {},
   "outputs": [
    {
     "name": "stdout",
     "output_type": "stream",
     "text": [
      "Model: \"model_1\"\n",
      "__________________________________________________________________________________________________\n",
      " Layer (type)                   Output Shape         Param #     Connected to                     \n",
      "==================================================================================================\n",
      " user_input (InputLayer)        [(None, 1)]          0           []                               \n",
      "                                                                                                  \n",
      " business_input (InputLayer)    [(None, 1)]          0           []                               \n",
      "                                                                                                  \n",
      " embedding_2 (Embedding)        (None, 1, 32)        1933600     ['user_input[0][0]']             \n",
      "                                                                                                  \n",
      " embedding_3 (Embedding)        (None, 1, 32)        77184       ['business_input[0][0]']         \n",
      "                                                                                                  \n",
      " flatten_2 (Flatten)            (None, 32)           0           ['embedding_2[0][0]']            \n",
      "                                                                                                  \n",
      " flatten_3 (Flatten)            (None, 32)           0           ['embedding_3[0][0]']            \n",
      "                                                                                                  \n",
      " concatenate_1 (Concatenate)    (None, 64)           0           ['flatten_2[0][0]',              \n",
      "                                                                  'flatten_3[0][0]']              \n",
      "                                                                                                  \n",
      " batch_normalization_1 (BatchNo  (None, 64)          256         ['concatenate_1[0][0]']          \n",
      " rmalization)                                                                                     \n",
      "                                                                                                  \n",
      " dense_2 (Dense)                (None, 128)          8320        ['batch_normalization_1[0][0]']  \n",
      "                                                                                                  \n",
      " dropout_1 (Dropout)            (None, 128)          0           ['dense_2[0][0]']                \n",
      "                                                                                                  \n",
      " dense_3 (Dense)                (None, 1)            129         ['dropout_1[0][0]']              \n",
      "                                                                                                  \n",
      "==================================================================================================\n",
      "Total params: 2,019,489\n",
      "Trainable params: 2,019,361\n",
      "Non-trainable params: 128\n",
      "__________________________________________________________________________________________________\n"
     ]
    }
   ],
   "source": [
    "embedding_dim=32\n",
    "\n",
    "user_input = Input(shape=(1,), name='user_input')\n",
    "business_input = Input(shape=(1,), name='business_input')\n",
    "\n",
    "user_embedding = Embedding(input_dim=num_users, output_dim=embedding_dim, embeddings_regularizer=l2(1e-6))(user_input)\n",
    "business_embedding = Embedding(input_dim=num_businesses, output_dim=embedding_dim, embeddings_regularizer=l2(1e-6))(business_input)\n",
    "\n",
    "user_flatten = Flatten()(user_embedding)\n",
    "business_flatten = Flatten()(business_embedding)\n",
    "\n",
    "merged = Concatenate()([user_flatten, business_flatten])\n",
    "merged = BatchNormalization()(merged)\n",
    "\n",
    "dense_layer = Dense(128, activation='relu')(merged)\n",
    "dropout = Dropout(0.4)(dense_layer)\n",
    "output_layer = Dense(1, activation='linear')(dropout)\n",
    "\n",
    "model = Model(inputs=[user_input, business_input], outputs=output_layer)\n",
    "model.compile(loss='mean_squared_error', optimizer='adam', metrics=['mae'])\n",
    "model.summary()"
   ]
  },
  {
   "cell_type": "code",
   "execution_count": 40,
   "metadata": {},
   "outputs": [
    {
     "name": "stdout",
     "output_type": "stream",
     "text": [
      "(306797,) (306797,) (306797,)\n"
     ]
    }
   ],
   "source": [
    "batch_size = 128\n",
    "epochs = 20\n",
    "\n",
    "user_ids = reviews['user_id_encoded'].values\n",
    "business_ids = reviews['business_id_encoded'].values\n",
    "stars = reviews['stars'].values\n",
    "\n",
    "print(np.shape(user_ids), np.shape(business_ids), np.shape(stars))"
   ]
  },
  {
   "cell_type": "code",
   "execution_count": 41,
   "metadata": {},
   "outputs": [],
   "source": [
    "model_checkpoint = ModelCheckpoint(r'C:\\Users\\User\\Desktop\\Learnabay Training\\My Portfolio projects for resume\\Restaurant Recommendation System\\model_weights.h5',\n",
    "                             monitor='val_loss',   # Monitor validation loss\n",
    "                             save_best_only=True,  # Save only the best model\n",
    "                             save_weights_only=True,\n",
    "                             mode='min'            # Mode of monitoring (minimize validation loss)\n",
    "                            )\n",
    "\n",
    "early_stopping = EarlyStopping(monitor='val_loss',\n",
    "                               patience=5,\n",
    "                               restore_best_weights=True\n",
    "                              )"
   ]
  },
  {
   "cell_type": "code",
   "execution_count": 42,
   "metadata": {},
   "outputs": [
    {
     "name": "stdout",
     "output_type": "stream",
     "text": [
      "Epoch 1/20\n",
      "1918/1918 [==============================] - 37s 19ms/step - loss: 1.7157 - mae: 1.0247 - val_loss: 2.0273 - val_mae: 1.2405\n",
      "Epoch 2/20\n",
      "1918/1918 [==============================] - 37s 19ms/step - loss: 1.1127 - mae: 0.8325 - val_loss: 1.4658 - val_mae: 1.0234\n",
      "Epoch 3/20\n",
      "1918/1918 [==============================] - 38s 20ms/step - loss: 0.9418 - mae: 0.7562 - val_loss: 1.4290 - val_mae: 0.9913\n",
      "Epoch 4/20\n",
      "1918/1918 [==============================] - 37s 19ms/step - loss: 0.8223 - mae: 0.6995 - val_loss: 1.4913 - val_mae: 1.0237\n",
      "Epoch 5/20\n",
      "1918/1918 [==============================] - 39s 21ms/step - loss: 0.7215 - mae: 0.6496 - val_loss: 1.5012 - val_mae: 1.0226\n",
      "Epoch 6/20\n",
      "1918/1918 [==============================] - 37s 19ms/step - loss: 0.6477 - mae: 0.6111 - val_loss: 1.5797 - val_mae: 1.0613\n",
      "Epoch 7/20\n",
      "1918/1918 [==============================] - 39s 20ms/step - loss: 0.5942 - mae: 0.5820 - val_loss: 1.5813 - val_mae: 1.0626\n",
      "Epoch 8/20\n",
      "1918/1918 [==============================] - 37s 19ms/step - loss: 0.5528 - mae: 0.5584 - val_loss: 1.5502 - val_mae: 1.0497\n"
     ]
    }
   ],
   "source": [
    "history = model.fit(\n",
    "    [user_ids, business_ids],\n",
    "    stars,\n",
    "    batch_size=batch_size,\n",
    "    epochs=epochs,\n",
    "    validation_split=0.2,\n",
    "    callbacks=[early_stopping, model_checkpoint]\n",
    ")"
   ]
  },
  {
   "cell_type": "code",
   "execution_count": 43,
   "metadata": {},
   "outputs": [],
   "source": [
    "import pickle\n",
    "\n",
    "with open(r'C:\\Users\\User\\Desktop\\Learnabay Training\\My Portfolio projects for resume\\Restaurant Recommendation System\\user_encoder.pickle', 'wb') as f:\n",
    "    pickle.dump(user_encoder, f)\n",
    "    \n",
    "with open(r'C:\\Users\\User\\Desktop\\Learnabay Training\\My Portfolio projects for resume\\Restaurant Recommendation System\\business_encoder.pickle', 'wb') as f:\n",
    "    pickle.dump(business_encoder, f)"
   ]
  },
  {
   "cell_type": "code",
   "execution_count": null,
   "metadata": {},
   "outputs": [],
   "source": []
  }
 ],
 "metadata": {
  "kernelspec": {
   "display_name": "Python 3 (ipykernel)",
   "language": "python",
   "name": "python3"
  },
  "language_info": {
   "codemirror_mode": {
    "name": "ipython",
    "version": 3
   },
   "file_extension": ".py",
   "mimetype": "text/x-python",
   "name": "python",
   "nbconvert_exporter": "python",
   "pygments_lexer": "ipython3",
   "version": "3.11.7"
  }
 },
 "nbformat": 4,
 "nbformat_minor": 4
}
